{
 "cells": [
  {
   "cell_type": "markdown",
   "id": "ab9a8444",
   "metadata": {},
   "source": [
    "# Lamina macromechanics\n",
    "\n",
    "Example from pg. 102 of reference 1\n",
    "\n",
    "1 - Mendonça, Paulo de Tarso R. Materiais Compostos e Estruturas-sanduíche: Projeto e Análise. 2005 Editora Manole Ltda."
   ]
  },
  {
   "cell_type": "code",
   "execution_count": 2,
   "id": "3d40bab9",
   "metadata": {},
   "outputs": [],
   "source": [
    "from composipy import Ply"
   ]
  },
  {
   "cell_type": "code",
   "execution_count": 7,
   "id": "87edf836",
   "metadata": {},
   "outputs": [],
   "source": [
    "E1 = 39000\n",
    "E2 = 8300\n",
    "G12 = 4000\n",
    "v12 = 0.26\n",
    "T = 1.0\n",
    "\n",
    "ply = Ply (E1, E2, v12, G12, T)"
   ]
  },
  {
   "cell_type": "code",
   "execution_count": 12,
   "id": "9e01c344",
   "metadata": {},
   "outputs": [
    {
     "data": {
      "text/plain": [
       "array([[39569.26989624,  2189.49960093,     0.        ],\n",
       "       [ 2189.49960093,  8421.15231125,     0.        ],\n",
       "       [    0.        ,     0.        ,  4000.        ]])"
      ]
     },
     "execution_count": 12,
     "metadata": {},
     "output_type": "execute_result"
    }
   ],
   "source": [
    "ply.Q_0"
   ]
  },
  {
   "cell_type": "code",
   "execution_count": null,
   "id": "2a0db147",
   "metadata": {},
   "outputs": [],
   "source": []
  }
 ],
 "metadata": {
  "kernelspec": {
   "display_name": "Python 3 (ipykernel)",
   "language": "python",
   "name": "python3"
  },
  "language_info": {
   "codemirror_mode": {
    "name": "ipython",
    "version": 3
   },
   "file_extension": ".py",
   "mimetype": "text/x-python",
   "name": "python",
   "nbconvert_exporter": "python",
   "pygments_lexer": "ipython3",
   "version": "3.9.7"
  }
 },
 "nbformat": 4,
 "nbformat_minor": 5
}
