{
 "cells": [
  {
   "cell_type": "markdown",
   "id": "85690897",
   "metadata": {},
   "source": [
    "# Laminate\n",
    "\n",
    "Example from pg. 201 of reference 1\n",
    "\n",
    "1 - Mendonça, Paulo de Tarso R. Materiais Compostos e Estruturas-sanduíche: Projeto e Análise. 2005 Editora Manole Ltda."
   ]
  },
  {
   "cell_type": "code",
   "execution_count": 1,
   "id": "49079ddf",
   "metadata": {},
   "outputs": [],
   "source": [
    "from composipy import Ply, Laminate"
   ]
  },
  {
   "cell_type": "code",
   "execution_count": 3,
   "id": "94da11d7",
   "metadata": {},
   "outputs": [],
   "source": [
    "E1 = 54870\n",
    "E2 = 18320\n",
    "G12 = 8900\n",
    "v12 = 0.25\n",
    "\n",
    "ply1 = Ply (E1, E2, v12, G12, 3.0)\n",
    "ply2 = Ply (E1, E2, v12, G12, 6.0)"
   ]
  },
  {
   "cell_type": "code",
   "execution_count": 12,
   "id": "53482fb0",
   "metadata": {},
   "outputs": [
    {
     "name": "stdout",
     "output_type": "stream",
     "text": [
      "[A]:\n",
      "[[515794.00930665 100823.25453699  55993.44346208]\n",
      " [100823.25453699 291820.23545835  55993.44346208]\n",
      " [ 55993.44346208  55993.44346208 151491.93392275]]\n",
      "[B]:\n",
      "[[0. 0. 0.]\n",
      " [0. 0. 0.]\n",
      " [0. 0. 0.]]\n",
      "[D]:\n",
      "[[4779418.7240577  1612106.45974872 1175862.31270358]\n",
      " [1612106.45974872 4107497.4025128  1175862.31270358]\n",
      " [1175862.31270358 1175862.31270358 2220130.61237785]]\n"
     ]
    }
   ],
   "source": [
    "layup = [(45, ply1),\n",
    "         (0, ply2),\n",
    "         (45, ply1)]\n",
    "\n",
    "laminate = Laminate(layup)\n",
    "laminate.show_ABD()"
   ]
  },
  {
   "cell_type": "code",
   "execution_count": 13,
   "id": "6096c52f",
   "metadata": {},
   "outputs": [
    {
     "data": {
      "text/plain": [
       "ply_2               45                  /////               \n",
       "ply_3               0                   =====               \n",
       "ply_2               45                  /////               "
      ]
     },
     "execution_count": 13,
     "metadata": {},
     "output_type": "execute_result"
    }
   ],
   "source": [
    "laminate"
   ]
  },
  {
   "cell_type": "code",
   "execution_count": null,
   "id": "b24f348c",
   "metadata": {},
   "outputs": [],
   "source": []
  }
 ],
 "metadata": {
  "kernelspec": {
   "display_name": "Python 3 (ipykernel)",
   "language": "python",
   "name": "python3"
  },
  "language_info": {
   "codemirror_mode": {
    "name": "ipython",
    "version": 3
   },
   "file_extension": ".py",
   "mimetype": "text/x-python",
   "name": "python",
   "nbconvert_exporter": "python",
   "pygments_lexer": "ipython3",
   "version": "3.9.7"
  }
 },
 "nbformat": 4,
 "nbformat_minor": 5
}
