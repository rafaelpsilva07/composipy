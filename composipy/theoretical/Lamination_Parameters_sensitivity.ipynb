{
 "cells": [
  {
   "cell_type": "code",
   "execution_count": 37,
   "metadata": {},
   "outputs": [],
   "source": [
    "import sympy as sp\n",
    "import numpy as np"
   ]
  },
  {
   "attachments": {},
   "cell_type": "markdown",
   "metadata": {},
   "source": [
    "## D in terms of LP"
   ]
  },
  {
   "cell_type": "code",
   "execution_count": 38,
   "metadata": {},
   "outputs": [],
   "source": [
    "U1, U2, U3, U4, U5, T = sp.symbols(['U1', 'U2', 'U3', 'U4', 'U5', 'T'])\n",
    "xi1, xi2, xi3, xi4 = sp.symbols(['xi1', 'xi2', 'xi3', 'xi4'])\n",
    "\n",
    "Gamma0 = sp.Matrix([\n",
    "    [U1, U4, 0],\n",
    "    [U4, U1, 0],\n",
    "    [0, 0, U5]\n",
    "])\n",
    "\n",
    "Gamma1 = sp.Matrix([\n",
    "    [U2, 0, 0],\n",
    "    [0, -U2, 0],\n",
    "    [0, 0, 0]\n",
    "])\n",
    "\n",
    "Gamma2 = sp.Matrix([\n",
    "    [0, 0, U2/2],\n",
    "    [0, 0, U2/2],\n",
    "    [U2/2, U2/2, 0]\n",
    "])\n",
    "\n",
    "Gamma3 = sp.Matrix([\n",
    "    [U3, -U3, 0],\n",
    "    [-U3, U3, 0],\n",
    "    [0, 0, -U3]\n",
    "])\n",
    "\n",
    "Gamma4 = sp.Matrix([\n",
    "    [0, 0, U3],\n",
    "    [0, 0, -U3],\n",
    "    [U3, -U3, 0]\n",
    "])"
   ]
  },
  {
   "cell_type": "code",
   "execution_count": 39,
   "metadata": {},
   "outputs": [
    {
     "data": {
      "text/latex": [
       "$\\displaystyle \\left[\\begin{matrix}\\frac{T^{3} \\left(U_{1} + U_{2} \\xi_{1} + U_{3} \\xi_{3}\\right)}{12} & \\frac{T^{3} \\left(- U_{3} \\xi_{3} + U_{4}\\right)}{12} & \\frac{T^{3} \\left(\\frac{U_{2} \\xi_{2}}{2} + U_{3} \\xi_{4}\\right)}{12}\\\\\\frac{T^{3} \\left(- U_{3} \\xi_{3} + U_{4}\\right)}{12} & \\frac{T^{3} \\left(U_{1} - U_{2} \\xi_{1} + U_{3} \\xi_{3}\\right)}{12} & \\frac{T^{3} \\left(\\frac{U_{2} \\xi_{2}}{2} - U_{3} \\xi_{4}\\right)}{12}\\\\\\frac{T^{3} \\left(\\frac{U_{2} \\xi_{2}}{2} + U_{3} \\xi_{4}\\right)}{12} & \\frac{T^{3} \\left(\\frac{U_{2} \\xi_{2}}{2} - U_{3} \\xi_{4}\\right)}{12} & \\frac{T^{3} \\left(- U_{3} \\xi_{3} + U_{5}\\right)}{12}\\end{matrix}\\right]$"
      ],
      "text/plain": [
       "Matrix([\n",
       "[T**3*(U1 + U2*xi1 + U3*xi3)/12,         T**3*(-U3*xi3 + U4)/12, T**3*(U2*xi2/2 + U3*xi4)/12],\n",
       "[        T**3*(-U3*xi3 + U4)/12, T**3*(U1 - U2*xi1 + U3*xi3)/12, T**3*(U2*xi2/2 - U3*xi4)/12],\n",
       "[   T**3*(U2*xi2/2 + U3*xi4)/12,    T**3*(U2*xi2/2 - U3*xi4)/12,      T**3*(-U3*xi3 + U5)/12]])"
      ]
     },
     "execution_count": 39,
     "metadata": {},
     "output_type": "execute_result"
    }
   ],
   "source": [
    "xiD = [xi1, xi2, xi3, xi4]\n",
    "D = (T**3/12) * (Gamma0 \n",
    "                     + Gamma1*xiD[0] \n",
    "                     + Gamma2*xiD[1] \n",
    "                     + Gamma3*xiD[2] \n",
    "                     + Gamma4*xiD[3])\n",
    "D\n"
   ]
  },
  {
   "cell_type": "code",
   "execution_count": 40,
   "metadata": {},
   "outputs": [
    {
     "name": "stdout",
     "output_type": "stream",
     "text": [
      "T**3*(U1 + U2*xi1 + U3*xi3)/12\n",
      "T**3*(-U3*xi3 + U4)/12\n",
      "T**3*(U2*xi2/2 + U3*xi4)/12\n",
      "T**3*(-U3*xi3 + U4)/12\n",
      "T**3*(U1 - U2*xi1 + U3*xi3)/12\n",
      "T**3*(U2*xi2/2 - U3*xi4)/12\n",
      "T**3*(U2*xi2/2 + U3*xi4)/12\n",
      "T**3*(U2*xi2/2 - U3*xi4)/12\n",
      "T**3*(-U3*xi3 + U5)/12\n"
     ]
    }
   ],
   "source": [
    "print(D[0,0])\n",
    "print(D[0,1])\n",
    "print(D[0,2])\n",
    "print(D[1,0])\n",
    "print(D[1,1])\n",
    "print(D[1,2])\n",
    "print(D[2,0])\n",
    "print(D[2,1])\n",
    "print(D[2,2])"
   ]
  },
  {
   "attachments": {},
   "cell_type": "markdown",
   "metadata": {},
   "source": [
    "## Uniaxial buckling"
   ]
  },
  {
   "cell_type": "code",
   "execution_count": 41,
   "metadata": {},
   "outputs": [],
   "source": [
    "a, b, m, n = sp.symbols(['a', 'b', 'm', 'n'])"
   ]
  },
  {
   "cell_type": "code",
   "execution_count": null,
   "metadata": {},
   "outputs": [],
   "source": []
  },
  {
   "cell_type": "code",
   "execution_count": 42,
   "metadata": {},
   "outputs": [
    {
     "data": {
      "text/latex": [
       "$\\displaystyle \\frac{\\pi^{2} \\left(\\frac{T^{3} a^{4} n^{4} \\left(U_{1} - U_{2} \\xi_{1} + U_{3} \\xi_{3}\\right)}{12 b^{4}} + \\frac{T^{3} m^{4} \\left(U_{1} + U_{2} \\xi_{1} + U_{3} \\xi_{3}\\right)}{12} + \\frac{a^{2} m^{2} n^{2} \\left(\\frac{T^{3} \\left(- U_{3} \\xi_{3} + U_{4}\\right)}{6} + \\frac{T^{3} \\left(- U_{3} \\xi_{3} + U_{5}\\right)}{3}\\right)}{b^{2}}\\right)}{a^{2} m^{2}}$"
      ],
      "text/plain": [
       "pi**2*(T**3*a**4*n**4*(U1 - U2*xi1 + U3*xi3)/(12*b**4) + T**3*m**4*(U1 + U2*xi1 + U3*xi3)/12 + a**2*m**2*n**2*(T**3*(-U3*xi3 + U4)/6 + T**3*(-U3*xi3 + U5)/3)/b**2)/(a**2*m**2)"
      ]
     },
     "execution_count": 42,
     "metadata": {},
     "output_type": "execute_result"
    }
   ],
   "source": [
    "AR = a/b\n",
    "\n",
    "Nxcr = (sp.pi**2/(a**2*m**2) \n",
    "        * (D[0,0]*m**4\n",
    "        + 2*(D[0,1]+2*D[2,2])*m**2*n**2*AR**2\n",
    "        + D[1,1]*n**4*AR**4)      \n",
    "        )\n",
    "Nxcr"
   ]
  },
  {
   "cell_type": "code",
   "execution_count": 43,
   "metadata": {},
   "outputs": [
    {
     "name": "stdout",
     "output_type": "stream",
     "text": [
      "pi**2*(T**3*a**4*n**4*(U1 - U2*xi1 + U3*xi3)/(12*b**4) + T**3*m**4*(U1 + U2*xi1 + U3*xi3)/12 + a**2*m**2*n**2*(T**3*(-U3*xi3 + U4)/6 + T**3*(-U3*xi3 + U5)/3)/b**2)/(a**2*m**2)\n"
     ]
    }
   ],
   "source": [
    "print(Nxcr)"
   ]
  },
  {
   "attachments": {},
   "cell_type": "markdown",
   "metadata": {},
   "source": [
    "## LP restriction"
   ]
  },
  {
   "cell_type": "code",
   "execution_count": 44,
   "metadata": {},
   "outputs": [],
   "source": [
    "g1 = xi3 - 2*xi1**2 + 1 \n",
    "g2 = xi3 - 1"
   ]
  },
  {
   "attachments": {},
   "cell_type": "markdown",
   "metadata": {},
   "source": [
    "## Lagrangean\n",
    "\n",
    "See optimization exercise 2 as an example"
   ]
  },
  {
   "cell_type": "code",
   "execution_count": 45,
   "metadata": {},
   "outputs": [],
   "source": [
    "from symopt import DiffNotation"
   ]
  },
  {
   "cell_type": "code",
   "execution_count": 46,
   "metadata": {},
   "outputs": [],
   "source": [
    "v1, v2 = sp.symbols(['v1', 'v2'])"
   ]
  },
  {
   "cell_type": "code",
   "execution_count": 47,
   "metadata": {},
   "outputs": [
    {
     "data": {
      "text/latex": [
       "$\\displaystyle v_{1} \\left(- 2 \\xi_{1}^{2} + \\xi_{3} + 1\\right) + v_{2} \\left(\\xi_{3} - 1\\right) + \\frac{\\pi^{2} \\left(\\frac{T^{3} a^{4} n^{4} \\left(U_{1} - U_{2} \\xi_{1} + U_{3} \\xi_{3}\\right)}{12 b^{4}} + \\frac{T^{3} m^{4} \\left(U_{1} + U_{2} \\xi_{1} + U_{3} \\xi_{3}\\right)}{12} + \\frac{a^{2} m^{2} n^{2} \\left(\\frac{T^{3} \\left(- U_{3} \\xi_{3} + U_{4}\\right)}{6} + \\frac{T^{3} \\left(- U_{3} \\xi_{3} + U_{5}\\right)}{3}\\right)}{b^{2}}\\right)}{a^{2} m^{2}}$"
      ],
      "text/plain": [
       "v1*(-2*xi1**2 + xi3 + 1) + v2*(xi3 - 1) + pi**2*(T**3*a**4*n**4*(U1 - U2*xi1 + U3*xi3)/(12*b**4) + T**3*m**4*(U1 + U2*xi1 + U3*xi3)/12 + a**2*m**2*n**2*(T**3*(-U3*xi3 + U4)/6 + T**3*(-U3*xi3 + U5)/3)/b**2)/(a**2*m**2)"
      ]
     },
     "execution_count": 47,
     "metadata": {},
     "output_type": "execute_result"
    }
   ],
   "source": [
    "L = Nxcr + v1*g1 + v2*g2\n",
    "L"
   ]
  },
  {
   "cell_type": "code",
   "execution_count": 48,
   "metadata": {},
   "outputs": [
    {
     "data": {
      "text/latex": [
       "$\\displaystyle \\left[\\begin{matrix}- 4 v_{1} \\xi_{1} + \\frac{\\pi^{2} \\left(- \\frac{T^{3} U_{2} a^{4} n^{4}}{12 b^{4}} + \\frac{T^{3} U_{2} m^{4}}{12}\\right)}{a^{2} m^{2}}\\\\v_{1} + v_{2} + \\frac{\\pi^{2} \\left(\\frac{T^{3} U_{3} a^{4} n^{4}}{12 b^{4}} - \\frac{T^{3} U_{3} a^{2} m^{2} n^{2}}{2 b^{2}} + \\frac{T^{3} U_{3} m^{4}}{12}\\right)}{a^{2} m^{2}}\\\\- 2 \\xi_{1}^{2} + \\xi_{3} + 1\\\\\\xi_{3} - 1\\end{matrix}\\right]$"
      ],
      "text/plain": [
       "Matrix([\n",
       "[                               -4*v1*xi1 + pi**2*(-T**3*U2*a**4*n**4/(12*b**4) + T**3*U2*m**4/12)/(a**2*m**2)],\n",
       "[v1 + v2 + pi**2*(T**3*U3*a**4*n**4/(12*b**4) - T**3*U3*a**2*m**2*n**2/(2*b**2) + T**3*U3*m**4/12)/(a**2*m**2)],\n",
       "[                                                                                          -2*xi1**2 + xi3 + 1],\n",
       "[                                                                                                      xi3 - 1]])"
      ]
     },
     "execution_count": 48,
     "metadata": {},
     "output_type": "execute_result"
    }
   ],
   "source": [
    "L_dn = DiffNotation(L, xi1, xi3, v1, v2)\n",
    "grad_L = L_dn.gradient()\n",
    "grad_L"
   ]
  },
  {
   "attachments": {},
   "cell_type": "markdown",
   "metadata": {},
   "source": [
    "## KKT"
   ]
  },
  {
   "cell_type": "code",
   "execution_count": 49,
   "metadata": {},
   "outputs": [
    {
     "data": {
      "text/latex": [
       "$\\displaystyle \\left[\\begin{matrix}- 4 v_{1} \\xi_{1} + \\frac{\\pi^{2} \\left(- \\frac{T^{3} U_{2} a^{4} n^{4}}{12 b^{4}} + \\frac{T^{3} U_{2} m^{4}}{12}\\right)}{a^{2} m^{2}}\\\\v_{1} + v_{2} + \\frac{\\pi^{2} \\left(\\frac{T^{3} U_{3} a^{4} n^{4}}{12 b^{4}} - \\frac{T^{3} U_{3} a^{2} m^{2} n^{2}}{2 b^{2}} + \\frac{T^{3} U_{3} m^{4}}{12}\\right)}{a^{2} m^{2}}\\\\- 2 \\xi_{1}^{2} + \\xi_{3} + 1\\\\\\xi_{3} - 1\\end{matrix}\\right]$"
      ],
      "text/plain": [
       "Matrix([\n",
       "[                               -4*v1*xi1 + pi**2*(-T**3*U2*a**4*n**4/(12*b**4) + T**3*U2*m**4/12)/(a**2*m**2)],\n",
       "[v1 + v2 + pi**2*(T**3*U3*a**4*n**4/(12*b**4) - T**3*U3*a**2*m**2*n**2/(2*b**2) + T**3*U3*m**4/12)/(a**2*m**2)],\n",
       "[                                                                                          -2*xi1**2 + xi3 + 1],\n",
       "[                                                                                                      xi3 - 1]])"
      ]
     },
     "execution_count": 49,
     "metadata": {},
     "output_type": "execute_result"
    }
   ],
   "source": [
    "# case 1 \n",
    "# g1, g2 = 0\n",
    "\n",
    "case1 = grad_L\n",
    "case1"
   ]
  },
  {
   "cell_type": "code",
   "execution_count": 50,
   "metadata": {},
   "outputs": [
    {
     "data": {
      "text/latex": [
       "$\\displaystyle \\left\\{\\left( -1, \\  1, \\  \\frac{\\pi^{2} T^{3} U_{2} \\left(a n - b m\\right) \\left(a n + b m\\right) \\left(a^{2} n^{2} + b^{2} m^{2}\\right)}{48 a^{2} b^{4} m^{2}}, \\  \\frac{- \\pi^{2} T^{3} U_{2} a^{4} n^{4} + \\pi^{2} T^{3} U_{2} b^{4} m^{4} - 4 \\pi^{2} T^{3} U_{3} a^{4} n^{4} + 24 \\pi^{2} T^{3} U_{3} a^{2} b^{2} m^{2} n^{2} - 4 \\pi^{2} T^{3} U_{3} b^{4} m^{4}}{48 a^{2} b^{4} m^{2}}\\right), \\left( 1, \\  1, \\  - \\frac{\\pi^{2} T^{3} U_{2} \\left(a n - b m\\right) \\left(a n + b m\\right) \\left(a^{2} n^{2} + b^{2} m^{2}\\right)}{48 a^{2} b^{4} m^{2}}, \\  \\frac{\\pi^{2} T^{3} U_{2} a^{4} n^{4} - \\pi^{2} T^{3} U_{2} b^{4} m^{4} - 4 \\pi^{2} T^{3} U_{3} a^{4} n^{4} + 24 \\pi^{2} T^{3} U_{3} a^{2} b^{2} m^{2} n^{2} - 4 \\pi^{2} T^{3} U_{3} b^{4} m^{4}}{48 a^{2} b^{4} m^{2}}\\right)\\right\\}$"
      ],
      "text/plain": [
       "{(-1, 1, pi**2*T**3*U2*(a*n - b*m)*(a*n + b*m)*(a**2*n**2 + b**2*m**2)/(48*a**2*b**4*m**2), (-pi**2*T**3*U2*a**4*n**4 + pi**2*T**3*U2*b**4*m**4 - 4*pi**2*T**3*U3*a**4*n**4 + 24*pi**2*T**3*U3*a**2*b**2*m**2*n**2 - 4*pi**2*T**3*U3*b**4*m**4)/(48*a**2*b**4*m**2)), (1, 1, -pi**2*T**3*U2*(a*n - b*m)*(a*n + b*m)*(a**2*n**2 + b**2*m**2)/(48*a**2*b**4*m**2), (pi**2*T**3*U2*a**4*n**4 - pi**2*T**3*U2*b**4*m**4 - 4*pi**2*T**3*U3*a**4*n**4 + 24*pi**2*T**3*U3*a**2*b**2*m**2*n**2 - 4*pi**2*T**3*U3*b**4*m**4)/(48*a**2*b**4*m**2))}"
      ]
     },
     "execution_count": 50,
     "metadata": {},
     "output_type": "execute_result"
    }
   ],
   "source": [
    "sp.nonlinsolve(case1, (xi1, xi3, v1, v2))"
   ]
  },
  {
   "cell_type": "code",
   "execution_count": 51,
   "metadata": {},
   "outputs": [
    {
     "data": {
      "text/latex": [
       "$\\displaystyle \\left[\\begin{matrix}\\frac{\\pi^{2} \\left(- \\frac{T^{3} U_{2} a^{4} n^{4}}{12 b^{4}} + \\frac{T^{3} U_{2} m^{4}}{12}\\right)}{a^{2} m^{2}}\\\\v_{2} + \\frac{\\pi^{2} \\left(\\frac{T^{3} U_{3} a^{4} n^{4}}{12 b^{4}} - \\frac{T^{3} U_{3} a^{2} m^{2} n^{2}}{2 b^{2}} + \\frac{T^{3} U_{3} m^{4}}{12}\\right)}{a^{2} m^{2}}\\\\\\xi_{3} - 1\\end{matrix}\\right]$"
      ],
      "text/plain": [
       "Matrix([\n",
       "[                                      pi**2*(-T**3*U2*a**4*n**4/(12*b**4) + T**3*U2*m**4/12)/(a**2*m**2)],\n",
       "[v2 + pi**2*(T**3*U3*a**4*n**4/(12*b**4) - T**3*U3*a**2*m**2*n**2/(2*b**2) + T**3*U3*m**4/12)/(a**2*m**2)],\n",
       "[                                                                                                 xi3 - 1]])"
      ]
     },
     "execution_count": 51,
     "metadata": {},
     "output_type": "execute_result"
    }
   ],
   "source": [
    "# case 2\n",
    "# v1, g2 = 0\n",
    "\n",
    "case2 = grad_L.subs(v1, 0)\n",
    "case2 = sp.Matrix([\n",
    "    [case2[0]],\n",
    "    [case2[1]],\n",
    "    [case2[3]]\n",
    "])\n",
    "case2"
   ]
  },
  {
   "cell_type": "code",
   "execution_count": 52,
   "metadata": {},
   "outputs": [
    {
     "data": {
      "text/latex": [
       "$\\displaystyle \\emptyset$"
      ],
      "text/plain": [
       "EmptySet"
      ]
     },
     "execution_count": 52,
     "metadata": {},
     "output_type": "execute_result"
    }
   ],
   "source": [
    "sp.nonlinsolve(case2, (xi1, xi3, v2))"
   ]
  },
  {
   "cell_type": "code",
   "execution_count": 53,
   "metadata": {},
   "outputs": [
    {
     "data": {
      "text/latex": [
       "$\\displaystyle \\left[\\begin{matrix}- 4 v_{1} \\xi_{1} + \\frac{\\pi^{2} \\left(- \\frac{T^{3} U_{2} a^{4} n^{4}}{12 b^{4}} + \\frac{T^{3} U_{2} m^{4}}{12}\\right)}{a^{2} m^{2}}\\\\v_{1} + \\frac{\\pi^{2} \\left(\\frac{T^{3} U_{3} a^{4} n^{4}}{12 b^{4}} - \\frac{T^{3} U_{3} a^{2} m^{2} n^{2}}{2 b^{2}} + \\frac{T^{3} U_{3} m^{4}}{12}\\right)}{a^{2} m^{2}}\\\\- 2 \\xi_{1}^{2} + \\xi_{3} + 1\\end{matrix}\\right]$"
      ],
      "text/plain": [
       "Matrix([\n",
       "[                          -4*v1*xi1 + pi**2*(-T**3*U2*a**4*n**4/(12*b**4) + T**3*U2*m**4/12)/(a**2*m**2)],\n",
       "[v1 + pi**2*(T**3*U3*a**4*n**4/(12*b**4) - T**3*U3*a**2*m**2*n**2/(2*b**2) + T**3*U3*m**4/12)/(a**2*m**2)],\n",
       "[                                                                                     -2*xi1**2 + xi3 + 1]])"
      ]
     },
     "execution_count": 53,
     "metadata": {},
     "output_type": "execute_result"
    }
   ],
   "source": [
    "# case 3\n",
    "# g1, v2 = 0\n",
    "\n",
    "case3 = grad_L.subs(v2, 0)\n",
    "case3 = sp.Matrix([\n",
    "    [case3[0]],\n",
    "    [case3[1]],\n",
    "    [case3[2]]\n",
    "])\n",
    "case3"
   ]
  },
  {
   "cell_type": "code",
   "execution_count": 54,
   "metadata": {},
   "outputs": [
    {
     "data": {
      "text/latex": [
       "$\\displaystyle \\left\\{\\left( \\frac{U_{2} \\left(a n - b m\\right) \\left(a n + b m\\right) \\left(a^{2} n^{2} + b^{2} m^{2}\\right)}{4 U_{3} \\left(a^{2} n^{2} - 2 a b m n - b^{2} m^{2}\\right) \\left(a^{2} n^{2} + 2 a b m n - b^{2} m^{2}\\right)}, \\  \\frac{U_{2}^{2} a^{8} n^{8} - 2 U_{2}^{2} a^{4} b^{4} m^{4} n^{4} + U_{2}^{2} b^{8} m^{8} - 8 U_{3}^{2} a^{8} n^{8} + 96 U_{3}^{2} a^{6} b^{2} m^{2} n^{6} - 304 U_{3}^{2} a^{4} b^{4} m^{4} n^{4} + 96 U_{3}^{2} a^{2} b^{6} m^{6} n^{2} - 8 U_{3}^{2} b^{8} m^{8}}{8 U_{3}^{2} \\left(a^{2} n^{2} - 2 a b m n - b^{2} m^{2}\\right)^{2} \\left(a^{2} n^{2} + 2 a b m n - b^{2} m^{2}\\right)^{2}}, \\  - \\frac{\\pi^{2} T^{3} U_{3} \\left(a^{2} n^{2} - 2 a b m n - b^{2} m^{2}\\right) \\left(a^{2} n^{2} + 2 a b m n - b^{2} m^{2}\\right)}{12 a^{2} b^{4} m^{2}}\\right)\\right\\}$"
      ],
      "text/plain": [
       "{(U2*(a*n - b*m)*(a*n + b*m)*(a**2*n**2 + b**2*m**2)/(4*U3*(a**2*n**2 - 2*a*b*m*n - b**2*m**2)*(a**2*n**2 + 2*a*b*m*n - b**2*m**2)), (U2**2*a**8*n**8 - 2*U2**2*a**4*b**4*m**4*n**4 + U2**2*b**8*m**8 - 8*U3**2*a**8*n**8 + 96*U3**2*a**6*b**2*m**2*n**6 - 304*U3**2*a**4*b**4*m**4*n**4 + 96*U3**2*a**2*b**6*m**6*n**2 - 8*U3**2*b**8*m**8)/(8*U3**2*(a**2*n**2 - 2*a*b*m*n - b**2*m**2)**2*(a**2*n**2 + 2*a*b*m*n - b**2*m**2)**2), -pi**2*T**3*U3*(a**2*n**2 - 2*a*b*m*n - b**2*m**2)*(a**2*n**2 + 2*a*b*m*n - b**2*m**2)/(12*a**2*b**4*m**2))}"
      ]
     },
     "execution_count": 54,
     "metadata": {},
     "output_type": "execute_result"
    }
   ],
   "source": [
    "case3_sol = sp.nonlinsolve(case3, (xi1, xi3, v1))\n",
    "case3_sol"
   ]
  },
  {
   "cell_type": "code",
   "execution_count": 55,
   "metadata": {},
   "outputs": [
    {
     "data": {
      "text/latex": [
       "$\\displaystyle \\frac{U_{2}^{2} a^{8} n^{8} - 2 U_{2}^{2} a^{4} b^{4} m^{4} n^{4} + U_{2}^{2} b^{8} m^{8} - 8 U_{3}^{2} a^{8} n^{8} + 96 U_{3}^{2} a^{6} b^{2} m^{2} n^{6} - 304 U_{3}^{2} a^{4} b^{4} m^{4} n^{4} + 96 U_{3}^{2} a^{2} b^{6} m^{6} n^{2} - 8 U_{3}^{2} b^{8} m^{8}}{8 U_{3}^{2} \\left(a^{2} n^{2} - 2 a b m n - b^{2} m^{2}\\right)^{2} \\left(a^{2} n^{2} + 2 a b m n - b^{2} m^{2}\\right)^{2}}$"
      ],
      "text/plain": [
       "(U2**2*a**8*n**8 - 2*U2**2*a**4*b**4*m**4*n**4 + U2**2*b**8*m**8 - 8*U3**2*a**8*n**8 + 96*U3**2*a**6*b**2*m**2*n**6 - 304*U3**2*a**4*b**4*m**4*n**4 + 96*U3**2*a**2*b**6*m**6*n**2 - 8*U3**2*b**8*m**8)/(8*U3**2*(a**2*n**2 - 2*a*b*m*n - b**2*m**2)**2*(a**2*n**2 + 2*a*b*m*n - b**2*m**2)**2)"
      ]
     },
     "execution_count": 55,
     "metadata": {},
     "output_type": "execute_result"
    }
   ],
   "source": [
    "list(case3_sol)[0][1]"
   ]
  },
  {
   "cell_type": "code",
   "execution_count": 56,
   "metadata": {},
   "outputs": [],
   "source": [
    "xi1_opt = list(case3_sol)[0][0]\n",
    "xi3_opt = list(case3_sol)[0][1]"
   ]
  },
  {
   "cell_type": "code",
   "execution_count": 57,
   "metadata": {},
   "outputs": [
    {
     "data": {
      "text/latex": [
       "$\\displaystyle \\left[\\begin{matrix}\\frac{\\pi^{2} \\left(- \\frac{T^{3} U_{2} a^{4} n^{4}}{12 b^{4}} + \\frac{T^{3} U_{2} m^{4}}{12}\\right)}{a^{2} m^{2}}\\\\\\frac{\\pi^{2} \\left(\\frac{T^{3} U_{3} a^{4} n^{4}}{12 b^{4}} - \\frac{T^{3} U_{3} a^{2} m^{2} n^{2}}{2 b^{2}} + \\frac{T^{3} U_{3} m^{4}}{12}\\right)}{a^{2} m^{2}}\\end{matrix}\\right]$"
      ],
      "text/plain": [
       "Matrix([\n",
       "[                                 pi**2*(-T**3*U2*a**4*n**4/(12*b**4) + T**3*U2*m**4/12)/(a**2*m**2)],\n",
       "[pi**2*(T**3*U3*a**4*n**4/(12*b**4) - T**3*U3*a**2*m**2*n**2/(2*b**2) + T**3*U3*m**4/12)/(a**2*m**2)]])"
      ]
     },
     "execution_count": 57,
     "metadata": {},
     "output_type": "execute_result"
    }
   ],
   "source": [
    "# case 4\n",
    "# v1, v2 = 0\n",
    "\n",
    "case4 = grad_L.subs(v1, 0).subs(v2, 0)\n",
    "case4 = sp.Matrix([\n",
    "    [case4[0]],\n",
    "    [case4[1]]\n",
    "])\n",
    "case4"
   ]
  },
  {
   "cell_type": "code",
   "execution_count": 58,
   "metadata": {},
   "outputs": [
    {
     "data": {
      "text/latex": [
       "$\\displaystyle \\emptyset$"
      ],
      "text/plain": [
       "EmptySet"
      ]
     },
     "execution_count": 58,
     "metadata": {},
     "output_type": "execute_result"
    }
   ],
   "source": [
    "sp.nonlinsolve(case4, (xi1, xi3))"
   ]
  },
  {
   "attachments": {},
   "cell_type": "markdown",
   "metadata": {},
   "source": [
    "## Material properties and invariant"
   ]
  },
  {
   "cell_type": "code",
   "execution_count": 59,
   "metadata": {},
   "outputs": [],
   "source": [
    "from composipy import OrthotropicMaterial, LaminateProperty"
   ]
  },
  {
   "cell_type": "code",
   "execution_count": 60,
   "metadata": {},
   "outputs": [],
   "source": [
    "# plate dim\n",
    "a_val = 200.\n",
    "b_val = 200.\n",
    "T_val = 1.\n",
    "\n",
    "# buck mode\n",
    "m_val =1\n",
    "n_val = 1"
   ]
  },
  {
   "cell_type": "code",
   "execution_count": 61,
   "metadata": {},
   "outputs": [],
   "source": [
    "E1 = 60000.\n",
    "E2 = 7000.\n",
    "v12 = 0.3\n",
    "G12 = 400\n",
    "t = 0.21 # Not used\n",
    "\n",
    "mat1 = OrthotropicMaterial(E1, E2, v12, G12, t)"
   ]
  },
  {
   "cell_type": "code",
   "execution_count": 62,
   "metadata": {},
   "outputs": [
    {
     "data": {
      "text/plain": [
       "array([[60636.68519454,  2122.28398181,     0.        ],\n",
       "       [ 2122.28398181,  7074.27993936,     0.        ],\n",
       "       [    0.        ,     0.        ,   400.        ]])"
      ]
     },
     "execution_count": 62,
     "metadata": {},
     "output_type": "execute_result"
    }
   ],
   "source": [
    "mat1.Q_0"
   ]
  },
  {
   "cell_type": "code",
   "execution_count": 63,
   "metadata": {},
   "outputs": [],
   "source": [
    "Q11 = mat1.Q_0[0, 0]\n",
    "Q12 = mat1.Q_0[0, 1]\n",
    "Q22 = mat1.Q_0[1, 1]\n",
    "Q66 = mat1.Q_0[2, 2]\n",
    "\n",
    "U1_val = 1/8 * (3*Q11 + 3*Q22 + 2*Q12 + 4*Q66)\n",
    "U2_val = 1/2 * (Q11 - Q22)\n",
    "U3_val = 1/8 * (Q11 + Q22 - 2*Q12 - 4*Q66)\n",
    "U4_val = 1/8 * (Q11 + Q22 + 6*Q12 - 4*Q66)\n",
    "U5_val = 1/8 * (Q11 + Q22 - 2*Q12 + 4*Q66)\n"
   ]
  },
  {
   "attachments": {},
   "cell_type": "markdown",
   "metadata": {},
   "source": [
    "## Plot"
   ]
  },
  {
   "cell_type": "code",
   "execution_count": 64,
   "metadata": {},
   "outputs": [],
   "source": [
    "import matplotlib.pyplot as plt"
   ]
  },
  {
   "cell_type": "code",
   "execution_count": 65,
   "metadata": {},
   "outputs": [],
   "source": [
    "# data for contour plot\n",
    "x = np.linspace(-1.5, 1.5, 200)\n",
    "xi1_arr, xi3_arr = np.meshgrid(x, x)\n",
    "Nx_arr = [[\n",
    "    Nxcr.subs(\n",
    "    {\n",
    "    U1: U1_val,\n",
    "    U2: U2_val, \n",
    "    U3: U3_val, \n",
    "    U4: U4_val,\n",
    "    U5: U5_val,\n",
    "    a: a_val, \n",
    "    b: b_val,\n",
    "    T: T_val,\n",
    "    m: m_val,\n",
    "    n: n_val,\n",
    "    xi1: xi1_,\n",
    "    xi3: xi3_\n",
    "    }\n",
    "    ) for xi1_ in x] for xi3_ in x]\n"
   ]
  },
  {
   "cell_type": "code",
   "execution_count": 66,
   "metadata": {},
   "outputs": [
    {
     "data": {
      "text/latex": [
       "$\\displaystyle 2.5 \\cdot 10^{-5} \\pi^{2} \\cdot \\left(8707.394306889 - 2577.766548762 \\xi_{3}\\right)$"
      ],
      "text/plain": [
       "2.5e-5*pi**2*(8707.394306889 - 2577.766548762*xi3)"
      ]
     },
     "execution_count": 66,
     "metadata": {},
     "output_type": "execute_result"
    }
   ],
   "source": [
    "Nxcr.subs(\n",
    "{\n",
    "U1: U1_val,\n",
    "U2: U2_val, \n",
    "U3: U3_val, \n",
    "U4: U4_val,\n",
    "U5: U5_val,\n",
    "a: a_val, \n",
    "b: b_val,\n",
    "T: T_val,\n",
    "m: m_val,\n",
    "n: n_val,\n",
    "})"
   ]
  },
  {
   "cell_type": "code",
   "execution_count": 67,
   "metadata": {},
   "outputs": [],
   "source": [
    "# restriction curve g1\n",
    "g1_xi1 = np.linspace(-1, 1, 100)\n",
    "g1_xi3 = 2*g1_xi1**2 - 1"
   ]
  },
  {
   "cell_type": "code",
   "execution_count": 68,
   "metadata": {},
   "outputs": [
    {
     "data": {
      "text/latex": [
       "$\\displaystyle - 2 \\xi_{1}^{2} + \\xi_{3} + 1$"
      ],
      "text/plain": [
       "-2*xi1**2 + xi3 + 1"
      ]
     },
     "execution_count": 68,
     "metadata": {},
     "output_type": "execute_result"
    }
   ],
   "source": [
    "sp.solve(g1, xi3)\n",
    "g1"
   ]
  },
  {
   "cell_type": "code",
   "execution_count": 69,
   "metadata": {},
   "outputs": [
    {
     "data": {
      "text/latex": [
       "$\\displaystyle 0$"
      ],
      "text/plain": [
       "0"
      ]
     },
     "execution_count": 69,
     "metadata": {},
     "output_type": "execute_result"
    }
   ],
   "source": [
    "xi1_opt_val = xi1_opt.subs({\n",
    "    U1: U1_val,\n",
    "    U2: U2_val, \n",
    "    U3: U3_val, \n",
    "    U4: U4_val,\n",
    "    U5: U5_val,\n",
    "    a: a_val, \n",
    "    b: b_val,\n",
    "    T: T_val,\n",
    "    m: m_val,\n",
    "    n: n_val})\n",
    "xi1_opt_val"
   ]
  },
  {
   "cell_type": "code",
   "execution_count": 70,
   "metadata": {},
   "outputs": [
    {
     "name": "stdout",
     "output_type": "stream",
     "text": [
      "(U2**2*a**8*n**8 - 2*U2**2*a**4*b**4*m**4*n**4 + U2**2*b**8*m**8 - 8*U3**2*a**8*n**8 + 96*U3**2*a**6*b**2*m**2*n**6 - 304*U3**2*a**4*b**4*m**4*n**4 + 96*U3**2*a**2*b**6*m**6*n**2 - 8*U3**2*b**8*m**8)/(8*U3**2*(a**2*n**2 - 2*a*b*m*n - b**2*m**2)**2*(a**2*n**2 + 2*a*b*m*n - b**2*m**2)**2)\n"
     ]
    }
   ],
   "source": [
    "print(xi3_opt)"
   ]
  },
  {
   "cell_type": "code",
   "execution_count": 71,
   "metadata": {},
   "outputs": [
    {
     "data": {
      "text/latex": [
       "$\\displaystyle -1.0$"
      ],
      "text/plain": [
       "-1.00000000000000"
      ]
     },
     "execution_count": 71,
     "metadata": {},
     "output_type": "execute_result"
    }
   ],
   "source": [
    "xi3_opt_val = xi3_opt.subs({\n",
    "    U1: U1_val,\n",
    "    U2: U2_val, \n",
    "    U3: U3_val, \n",
    "    U4: U4_val,\n",
    "    U5: U5_val,\n",
    "    a: a_val, \n",
    "    b: b_val,\n",
    "    T: T_val,\n",
    "    m: m_val,\n",
    "    n: n_val})\n",
    "xi3_opt_val"
   ]
  },
  {
   "cell_type": "code",
   "execution_count": 72,
   "metadata": {},
   "outputs": [
    {
     "data": {
      "image/png": "[encoded data removed]",
      "text/plain": [
       "<Figure size 640x480 with 1 Axes>"
      ]
     },
     "metadata": {},
     "output_type": "display_data"
    }
   ],
   "source": [
    "plt.figure()\n",
    "\n",
    "# Nxcrit\n",
    "cs1 = plt.contour(xi1_arr, xi3_arr, Nx_arr, 25)\n",
    "plt.clabel(cs1)\n",
    "\n",
    "#g1\n",
    "plt.plot(g1_xi1, g1_xi3, 'k', label='g1')\n",
    "\n",
    "# optimum\n",
    "plt.plot(xi1_opt_val, xi3_opt_val, 'ro', label='optimum')\n",
    "\n",
    "\n",
    "plt.xlabel('W1')\n",
    "plt.ylabel('W3')\n",
    "plt.legend()\n",
    "plt.show()"
   ]
  },
  {
   "cell_type": "code",
   "execution_count": null,
   "metadata": {},
   "outputs": [],
   "source": []
  },
  {
   "cell_type": "code",
   "execution_count": null,
   "metadata": {},
   "outputs": [],
   "source": []
  },
  {
   "cell_type": "code",
   "execution_count": null,
   "metadata": {},
   "outputs": [],
   "source": []
  }
 ],
 "metadata": {
  "kernelspec": {
   "display_name": "Python 3 (ipykernel)",
   "language": "python",
   "name": "python3"
  },
  "language_info": {
   "codemirror_mode": {
    "name": "ipython",
    "version": 3
   },
   "file_extension": ".py",
   "mimetype": "text/x-python",
   "name": "python",
   "nbconvert_exporter": "python",
   "pygments_lexer": "ipython3",
   "version": "3.9.13"
  }
 },
 "nbformat": 4,
 "nbformat_minor": 2
}
