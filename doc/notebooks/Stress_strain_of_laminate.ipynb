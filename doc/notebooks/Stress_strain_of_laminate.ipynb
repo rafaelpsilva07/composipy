{
 "cells": [
  {
   "cell_type": "markdown",
   "metadata": {
    "vscode": {
     "languageId": "plaintext"
    }
   },
   "source": [
    "# Stress Strain Calculation of a Laminate\n",
    "\n",
    "This example presents the stress strain calculation of a Laminate using the CLT. "
   ]
  },
  {
   "cell_type": "code",
   "execution_count": 17,
   "metadata": {},
   "outputs": [],
   "source": [
    "import matplotlib.pyplot as plt\n",
    "import pandas as pd\n",
    "\n",
    "from composipy import OrthotropicMaterial, LaminateProperty, LaminateStrength"
   ]
  },
  {
   "cell_type": "code",
   "execution_count": 10,
   "metadata": {},
   "outputs": [],
   "source": [
    "# Material\n",
    "E1 = 137.9e3\n",
    "E2 = 11.7e3\n",
    "v12 = 0.31\n",
    "G12 = 4.82e3\n",
    "t = 0.1524\n",
    "\n",
    "#Loads\n",
    "Nxx = 100\n",
    "Mxx = 20\n",
    "\n",
    "# Quasi laminate\n",
    "stacking = [45, -45, 90, 0]\n",
    "stacking += stacking[::-1]\n",
    "\n",
    "# Object definition\n",
    "material = OrthotropicMaterial(E1, E2, v12, G12, t)\n",
    "laminate = LaminateProperty(stacking, material)\n",
    "strength_analysis = LaminateStrength(laminate, Nxx=Nxx, Mxx=Mxx)"
   ]
  },
  {
   "cell_type": "markdown",
   "metadata": {},
   "source": [
    "Calculating strains at the midplane $\\varepsilon_{0x}$, $\\varepsilon_{0y}$ and $\\gamma_{0xy}$"
   ]
  },
  {
   "cell_type": "code",
   "execution_count": 11,
   "metadata": {},
   "outputs": [
    {
     "data": {
      "text/plain": [
       "array([ 1.52630215e-03, -4.89003289e-04, -1.67758599e-20,  5.46178270e-03,\n",
       "       -2.99304212e-03, -6.90268796e-04])"
      ]
     },
     "execution_count": 11,
     "metadata": {},
     "output_type": "execute_result"
    }
   ],
   "source": [
    "strength_analysis.epsilon0()"
   ]
  },
  {
   "cell_type": "markdown",
   "metadata": {},
   "source": [
    "Calculating strains ply by ply in analysis direction and material direction."
   ]
  },
  {
   "cell_type": "code",
   "execution_count": 15,
   "metadata": {},
   "outputs": [
    {
     "data": {
      "text/html": [
       "<div>\n",
       "<style scoped>\n",
       "    .dataframe tbody tr th:only-of-type {\n",
       "        vertical-align: middle;\n",
       "    }\n",
       "\n",
       "    .dataframe tbody tr th {\n",
       "        vertical-align: top;\n",
       "    }\n",
       "\n",
       "    .dataframe thead th {\n",
       "        text-align: right;\n",
       "    }\n",
       "</style>\n",
       "<table border=\"1\" class=\"dataframe\">\n",
       "  <thead>\n",
       "    <tr style=\"text-align: right;\">\n",
       "      <th></th>\n",
       "      <th>ply</th>\n",
       "      <th>position</th>\n",
       "      <th>angle</th>\n",
       "      <th>epsilonx</th>\n",
       "      <th>epsilony</th>\n",
       "      <th>gammaxy</th>\n",
       "      <th>epsilon1</th>\n",
       "      <th>epsilon2</th>\n",
       "      <th>gamma12</th>\n",
       "    </tr>\n",
       "  </thead>\n",
       "  <tbody>\n",
       "    <tr>\n",
       "      <th>0</th>\n",
       "      <td>1</td>\n",
       "      <td>top</td>\n",
       "      <td>45</td>\n",
       "      <td>4.86e-03</td>\n",
       "      <td>-2.31e-03</td>\n",
       "      <td>-4.21e-04</td>\n",
       "      <td>1.06e-03</td>\n",
       "      <td>1.48e-03</td>\n",
       "      <td>-7.17e-03</td>\n",
       "    </tr>\n",
       "    <tr>\n",
       "      <th>1</th>\n",
       "      <td>1</td>\n",
       "      <td>bot</td>\n",
       "      <td>45</td>\n",
       "      <td>4.02e-03</td>\n",
       "      <td>-1.86e-03</td>\n",
       "      <td>-3.16e-04</td>\n",
       "      <td>9.25e-04</td>\n",
       "      <td>1.24e-03</td>\n",
       "      <td>-5.88e-03</td>\n",
       "    </tr>\n",
       "    <tr>\n",
       "      <th>2</th>\n",
       "      <td>2</td>\n",
       "      <td>top</td>\n",
       "      <td>-45</td>\n",
       "      <td>4.02e-03</td>\n",
       "      <td>-1.86e-03</td>\n",
       "      <td>-3.16e-04</td>\n",
       "      <td>1.24e-03</td>\n",
       "      <td>9.25e-04</td>\n",
       "      <td>5.88e-03</td>\n",
       "    </tr>\n",
       "    <tr>\n",
       "      <th>3</th>\n",
       "      <td>2</td>\n",
       "      <td>bot</td>\n",
       "      <td>-45</td>\n",
       "      <td>3.19e-03</td>\n",
       "      <td>-1.40e-03</td>\n",
       "      <td>-2.10e-04</td>\n",
       "      <td>1.00e-03</td>\n",
       "      <td>7.90e-04</td>\n",
       "      <td>4.59e-03</td>\n",
       "    </tr>\n",
       "    <tr>\n",
       "      <th>4</th>\n",
       "      <td>3</td>\n",
       "      <td>top</td>\n",
       "      <td>90</td>\n",
       "      <td>3.19e-03</td>\n",
       "      <td>-1.40e-03</td>\n",
       "      <td>-2.10e-04</td>\n",
       "      <td>-1.40e-03</td>\n",
       "      <td>3.19e-03</td>\n",
       "      <td>2.10e-04</td>\n",
       "    </tr>\n",
       "    <tr>\n",
       "      <th>5</th>\n",
       "      <td>3</td>\n",
       "      <td>bot</td>\n",
       "      <td>90</td>\n",
       "      <td>2.36e-03</td>\n",
       "      <td>-9.45e-04</td>\n",
       "      <td>-1.05e-04</td>\n",
       "      <td>-9.45e-04</td>\n",
       "      <td>2.36e-03</td>\n",
       "      <td>1.05e-04</td>\n",
       "    </tr>\n",
       "  </tbody>\n",
       "</table>\n",
       "</div>"
      ],
      "text/plain": [
       "   ply position  angle  epsilonx  epsilony   gammaxy  epsilon1  epsilon2  \\\n",
       "0    1      top     45  4.86e-03 -2.31e-03 -4.21e-04  1.06e-03  1.48e-03   \n",
       "1    1      bot     45  4.02e-03 -1.86e-03 -3.16e-04  9.25e-04  1.24e-03   \n",
       "2    2      top    -45  4.02e-03 -1.86e-03 -3.16e-04  1.24e-03  9.25e-04   \n",
       "3    2      bot    -45  3.19e-03 -1.40e-03 -2.10e-04  1.00e-03  7.90e-04   \n",
       "4    3      top     90  3.19e-03 -1.40e-03 -2.10e-04 -1.40e-03  3.19e-03   \n",
       "5    3      bot     90  2.36e-03 -9.45e-04 -1.05e-04 -9.45e-04  2.36e-03   \n",
       "\n",
       "    gamma12  \n",
       "0 -7.17e-03  \n",
       "1 -5.88e-03  \n",
       "2  5.88e-03  \n",
       "3  4.59e-03  \n",
       "4  2.10e-04  \n",
       "5  1.05e-04  "
      ]
     },
     "execution_count": 15,
     "metadata": {},
     "output_type": "execute_result"
    }
   ],
   "source": [
    "df_strain = strength_analysis.calculate_strain()\n",
    "df_strain.head(6) #display the first 6"
   ]
  },
  {
   "cell_type": "code",
   "execution_count": 27,
   "metadata": {},
   "outputs": [
    {
     "data": {
      "text/plain": [
       "[<matplotlib.lines.Line2D at 0x1dee71542e0>]"
      ]
     },
     "execution_count": 27,
     "metadata": {},
     "output_type": "execute_result"
    },
    {
     "data": {
      "image/png": "[encoded data removed]",
      "text/plain": [
       "<Figure size 640x480 with 1 Axes>"
      ]
     },
     "metadata": {},
     "output_type": "display_data"
    }
   ],
   "source": [
    "df_strain_top = df_strain[df_strain['position']=='top'] #filter the top position\n",
    "plt.grid()\n",
    "plt.xlabel('strain')\n",
    "plt.ylabel('ply number')\n",
    "plt.plot(df_strain_top['epsilonx'], df_strain_top['ply'], 'k')"
   ]
  },
  {
   "cell_type": "markdown",
   "metadata": {},
   "source": [
    "Calculating stresses ply by ply in analysis direction and material direction."
   ]
  },
  {
   "cell_type": "code",
   "execution_count": 16,
   "metadata": {},
   "outputs": [
    {
     "data": {
      "text/html": [
       "<div>\n",
       "<style scoped>\n",
       "    .dataframe tbody tr th:only-of-type {\n",
       "        vertical-align: middle;\n",
       "    }\n",
       "\n",
       "    .dataframe tbody tr th {\n",
       "        vertical-align: top;\n",
       "    }\n",
       "\n",
       "    .dataframe thead th {\n",
       "        text-align: right;\n",
       "    }\n",
       "</style>\n",
       "<table border=\"1\" class=\"dataframe\">\n",
       "  <thead>\n",
       "    <tr style=\"text-align: right;\">\n",
       "      <th></th>\n",
       "      <th>ply</th>\n",
       "      <th>position</th>\n",
       "      <th>angle</th>\n",
       "      <th>sigmax</th>\n",
       "      <th>sigmay</th>\n",
       "      <th>tauxy</th>\n",
       "      <th>sigma1</th>\n",
       "      <th>sigma2</th>\n",
       "      <th>tau12</th>\n",
       "    </tr>\n",
       "  </thead>\n",
       "  <tbody>\n",
       "    <tr>\n",
       "      <th>0</th>\n",
       "      <td>1</td>\n",
       "      <td>top</td>\n",
       "      <td>45</td>\n",
       "      <td>121.68</td>\n",
       "      <td>52.57</td>\n",
       "      <td>65.77</td>\n",
       "      <td>152.89</td>\n",
       "      <td>21.36</td>\n",
       "      <td>-34.56</td>\n",
       "    </tr>\n",
       "    <tr>\n",
       "      <th>1</th>\n",
       "      <td>1</td>\n",
       "      <td>bot</td>\n",
       "      <td>45</td>\n",
       "      <td>103.94</td>\n",
       "      <td>47.25</td>\n",
       "      <td>57.58</td>\n",
       "      <td>133.17</td>\n",
       "      <td>18.02</td>\n",
       "      <td>-28.35</td>\n",
       "    </tr>\n",
       "    <tr>\n",
       "      <th>2</th>\n",
       "      <td>2</td>\n",
       "      <td>top</td>\n",
       "      <td>-45</td>\n",
       "      <td>124.02</td>\n",
       "      <td>67.33</td>\n",
       "      <td>-80.22</td>\n",
       "      <td>175.90</td>\n",
       "      <td>15.45</td>\n",
       "      <td>28.35</td>\n",
       "    </tr>\n",
       "    <tr>\n",
       "      <th>3</th>\n",
       "      <td>2</td>\n",
       "      <td>bot</td>\n",
       "      <td>-45</td>\n",
       "      <td>99.59</td>\n",
       "      <td>55.32</td>\n",
       "      <td>-64.48</td>\n",
       "      <td>141.93</td>\n",
       "      <td>12.97</td>\n",
       "      <td>22.14</td>\n",
       "    </tr>\n",
       "    <tr>\n",
       "      <th>4</th>\n",
       "      <td>3</td>\n",
       "      <td>top</td>\n",
       "      <td>90</td>\n",
       "      <td>32.52</td>\n",
       "      <td>-183.16</td>\n",
       "      <td>-1.01</td>\n",
       "      <td>-183.16</td>\n",
       "      <td>32.52</td>\n",
       "      <td>1.01</td>\n",
       "    </tr>\n",
       "    <tr>\n",
       "      <th>5</th>\n",
       "      <td>3</td>\n",
       "      <td>bot</td>\n",
       "      <td>90</td>\n",
       "      <td>24.37</td>\n",
       "      <td>-122.78</td>\n",
       "      <td>-0.51</td>\n",
       "      <td>-122.78</td>\n",
       "      <td>24.37</td>\n",
       "      <td>0.51</td>\n",
       "    </tr>\n",
       "  </tbody>\n",
       "</table>\n",
       "</div>"
      ],
      "text/plain": [
       "   ply position  angle  sigmax  sigmay  tauxy  sigma1  sigma2  tau12\n",
       "0    1      top     45  121.68   52.57  65.77  152.89   21.36 -34.56\n",
       "1    1      bot     45  103.94   47.25  57.58  133.17   18.02 -28.35\n",
       "2    2      top    -45  124.02   67.33 -80.22  175.90   15.45  28.35\n",
       "3    2      bot    -45   99.59   55.32 -64.48  141.93   12.97  22.14\n",
       "4    3      top     90   32.52 -183.16  -1.01 -183.16   32.52   1.01\n",
       "5    3      bot     90   24.37 -122.78  -0.51 -122.78   24.37   0.51"
      ]
     },
     "execution_count": 16,
     "metadata": {},
     "output_type": "execute_result"
    }
   ],
   "source": [
    "df_stress = strength_analysis.calculate_stress()\n",
    "df_stress.head(6) #display the first 6"
   ]
  },
  {
   "cell_type": "code",
   "execution_count": 30,
   "metadata": {},
   "outputs": [
    {
     "data": {
      "text/plain": [
       "[<matplotlib.lines.Line2D at 0x1dee72b1790>]"
      ]
     },
     "execution_count": 30,
     "metadata": {},
     "output_type": "execute_result"
    },
    {
     "data": {
      "image/png": "[encoded data removed]",
      "text/plain": [
       "<Figure size 640x480 with 1 Axes>"
      ]
     },
     "metadata": {},
     "output_type": "display_data"
    }
   ],
   "source": [
    "df_stress_top = df_stress[df_stress['position']=='top'] #filter the top position\n",
    "plt.grid()\n",
    "plt.xlabel('stress MPa')\n",
    "plt.ylabel('ply number')\n",
    "plt.plot(df_stress_top['sigmax'], df_stress_top['ply'], 'k')"
   ]
  }
 ],
 "metadata": {
  "kernelspec": {
   "display_name": "base",
   "language": "python",
   "name": "python3"
  },
  "language_info": {
   "codemirror_mode": {
    "name": "ipython",
    "version": 3
   },
   "file_extension": ".py",
   "mimetype": "text/x-python",
   "name": "python",
   "nbconvert_exporter": "python",
   "pygments_lexer": "ipython3",
   "version": "3.9.13"
  }
 },
 "nbformat": 4,
 "nbformat_minor": 2
}
