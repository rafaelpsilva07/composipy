{
 "cells": [
  {
   "cell_type": "code",
   "execution_count": 140,
   "metadata": {},
   "outputs": [],
   "source": [
    "import numpy as np\n",
    "import sys\n",
    "\n",
    "from scipy.linalg import eig\n",
    "from scipy.sparse import csc_matrix\n",
    "from scipy.sparse.linalg import eigs\n",
    "from numpy import allclose\n",
    "\n",
    "path = 'D:/repositories/composipy'\n",
    "\n",
    "sys.path.append(path)\n",
    "\n",
    "from time import time\n",
    "\n",
    "from composipy import OrthotropicMaterial, LaminateProperty\n",
    "from composipy import PlateStructure\n",
    "\n"
   ]
  },
  {
   "cell_type": "code",
   "execution_count": 141,
   "metadata": {},
   "outputs": [],
   "source": [
    "#Properties (N and mm)\n",
    "E1 = 60800\n",
    "E2 = 58250\n",
    "v12 = 0.07\n",
    "G12 = 4550\n",
    "t = 0.21\n",
    "\n",
    "# Plate Parameters\n",
    "a = 360\n",
    "b = 360\n",
    "m = 10\n",
    "n = 10\n",
    "\n",
    "\n",
    "stacking = [45,-45,0,90,45,-45,0,90,45,-45]\n",
    "stacking += stacking[::-1]\n",
    "\n",
    "a = 360.\n",
    "b = 360."
   ]
  },
  {
   "cell_type": "code",
   "execution_count": 142,
   "metadata": {},
   "outputs": [
    {
     "name": "stdout",
     "output_type": "stream",
     "text": [
      "calculating K and KG\n",
      "calculation done in 2.4665584564208984 seconds\n",
      "calculating panel eig value\n",
      "48.52457849227318\n",
      "calculation done in 2.4968631267547607 seconds\n"
     ]
    }
   ],
   "source": [
    "ply_1 = OrthotropicMaterial(E1, E2, v12, G12, t)\n",
    "l1 = LaminateProperty(stacking, ply_1)\n",
    "constraints={\n",
    "                'x0': ['TX', 'TY', 'TZ'],\n",
    "                'xa': ['TX', 'TY', 'TZ'],\n",
    "                'y0': ['TX', 'TY', 'TZ'],\n",
    "                'yb': ['TX', 'TY', 'TZ'],\n",
    "            }\n",
    "panel = PlateStructure(l1, a, b, m=m, n=n, Nxx=-1, Nyy=-1, constraints=constraints)\n",
    "\n",
    "ti = time()\n",
    "print('calculating K and KG')\n",
    "K_KG = panel.calc_K_KG()\n",
    "K = K_KG['K']\n",
    "KG = K_KG['KG']\n",
    "print(f'calculation done in {time()-ti} seconds')\n",
    "print('calculating panel eig value')\n",
    "ti = time()\n",
    "print(panel.buckling_analysis())\n",
    "print(f'calculation done in {time()-ti} seconds')"
   ]
  },
  {
   "cell_type": "code",
   "execution_count": 149,
   "metadata": {},
   "outputs": [
    {
     "name": "stdout",
     "output_type": "stream",
     "text": [
      "Running linear buckling analysis...\n",
      "\t\tEigenvalue solver... \n",
      "\t\t\teigsh() solver...\n",
      "\t\t\tfinished!\n",
      "\t\tfinished!\n",
      "\tfirst 5 eigenvalues:\n",
      "\t\t48.52457849227213\n",
      "\t\t115.33986497435149\n",
      "\t\t115.60711330382483\n",
      "\t\t194.09686865625642\n",
      "\t\t221.57771298566516\n"
     ]
    },
    {
     "data": {
      "text/plain": [
       "array([ 48.52457849, 115.33986497, 115.6071133 , 194.09686866,\n",
       "       221.57771299, 222.15591277, 308.86123656, 309.48317985,\n",
       "       368.99999417, 370.08445037, 436.71118574, 461.47246526,\n",
       "       462.33970189, 561.6366027 , 563.3834036 , 599.62788016,\n",
       "       600.77815938, 656.8345812 , 658.36588959, 776.37052798,\n",
       "       801.3471514 , 802.96144218, 803.91915658, 804.12792152,\n",
       "       898.07786955])"
      ]
     },
     "execution_count": 149,
     "metadata": {},
     "output_type": "execute_result"
    }
   ],
   "source": [
    "eigvals, eigvecs = lb(K, KG, silent=False)\n",
    "eigvals"
   ]
  },
  {
   "cell_type": "markdown",
   "metadata": {},
   "source": [
    "## comparison with compmech"
   ]
  },
  {
   "cell_type": "code",
   "execution_count": 144,
   "metadata": {},
   "outputs": [],
   "source": [
    "from compmech.panel.panel import Panel\n",
    "from compmech.analysis import lb, static"
   ]
  },
  {
   "cell_type": "code",
   "execution_count": 145,
   "metadata": {},
   "outputs": [],
   "source": [
    "# skin panels\n",
    "laminaprop = (E1, E2, v12, G12, G12, G12)\n",
    "p1 = Panel(group='skin', Nxx=-1, Nyy=-1, x0=0, y0=0., a=a, b=b,m=12, n=12, plyt=t, stack=stacking, laminaprop=laminaprop)"
   ]
  },
  {
   "cell_type": "code",
   "execution_count": 146,
   "metadata": {},
   "outputs": [],
   "source": [
    "p1.u1tx = 0 ; p1.u1rx = 0 ; p1.u2tx = 0 ; p1.u2rx = 0\n",
    "p1.v1tx = 0 ; p1.v1rx = 0 ; p1.v2tx = 0 ; p1.v2rx = 0\n",
    "p1.w1tx = 0 ; p1.w1rx = 1 ; p1.w2tx = 0 ; p1.w2rx = 1\n",
    "p1.u1ty = 0 ; p1.u1ry = 0 ; p1.u2ty = 0 ; p1.u2ry = 0\n",
    "p1.v1ty = 0 ; p1.v1ry = 0 ; p1.v2ty = 0 ; p1.v2ry = 0\n",
    "p1.w1ty = 0 ; p1.w1ry = 1 ; p1.w2ty = 0 ; p1.w2ry = 1\n"
   ]
  },
  {
   "cell_type": "code",
   "execution_count": 147,
   "metadata": {},
   "outputs": [
    {
     "name": "stdout",
     "output_type": "stream",
     "text": [
      "\t\tCalculating k0... \n",
      "\t\tfinished!\n",
      "\t\tCalculating kG0... \n",
      "\t\tfinished!\n"
     ]
    },
    {
     "data": {
      "text/plain": [
       "array([ 48.52457849, 115.33986497, 115.6071133 , 194.09686866,\n",
       "       221.57771299, 222.15591277, 308.86123656, 309.48317985,\n",
       "       368.99999417, 370.08445037, 436.71118574, 461.47246526,\n",
       "       462.33970189, 561.6366027 , 563.3834036 , 599.62788016,\n",
       "       600.77815939, 656.8345812 , 658.36588959, 776.37052798,\n",
       "       801.34715129, 802.96144214, 803.91915658, 804.12792151,\n",
       "       898.07786953])"
      ]
     },
     "execution_count": 147,
     "metadata": {},
     "output_type": "execute_result"
    }
   ],
   "source": [
    "k0_1 = p1.calc_k0()\n",
    "kG0_1 = p1.calc_kG0()\n",
    "\n",
    "eigvals, eigvecs = lb(k0_1, kG0_1, silent=True)\n",
    "eigvals"
   ]
  },
  {
   "cell_type": "code",
   "execution_count": 148,
   "metadata": {},
   "outputs": [
    {
     "data": {
      "text/plain": [
       "<432x432 sparse matrix of type '<class 'numpy.float64'>'\n",
       "\twith 186624 stored elements in Compressed Sparse Row format>"
      ]
     },
     "execution_count": 148,
     "metadata": {},
     "output_type": "execute_result"
    }
   ],
   "source": [
    "k0_1"
   ]
  },
  {
   "cell_type": "code",
   "execution_count": null,
   "metadata": {},
   "outputs": [],
   "source": []
  }
 ],
 "metadata": {
  "kernelspec": {
   "display_name": "base",
   "language": "python",
   "name": "python3"
  },
  "language_info": {
   "codemirror_mode": {
    "name": "ipython",
    "version": 3
   },
   "file_extension": ".py",
   "mimetype": "text/x-python",
   "name": "python",
   "nbconvert_exporter": "python",
   "pygments_lexer": "ipython3",
   "version": "3.9.12 (main, Apr  4 2022, 05:22:27) [MSC v.1916 64 bit (AMD64)]"
  },
  "orig_nbformat": 4,
  "vscode": {
   "interpreter": {
    "hash": "c1590602456d7cb2bb11a9c056450b313acab0eb77422ae1a602feaa944934ec"
   }
  }
 },
 "nbformat": 4,
 "nbformat_minor": 2
}
